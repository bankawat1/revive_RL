{
 "cells": [
  {
   "cell_type": "code",
   "execution_count": 2,
   "metadata": {
    "collapsed": true
   },
   "outputs": [],
   "source": [
    "import numpy as np\n"
   ]
  },
  {
   "cell_type": "markdown",
   "metadata": {
    "collapsed": true
   },
   "source": [
    "1. changed runtime from 5 to 10\n",
    "2. increased the depth of the network from 2 to 3 and hidden layer from 64 to 512 to 128\n",
    "3. increased the learning rate of NN from 0.0001 to 0.001\n",
    "4. changed decay rate from 0.0001 to 0.001\n",
    "5. memory batch size changed from 20 to 30 to 60"
   ]
  },
  {
   "cell_type": "code",
   "execution_count": 3,
   "metadata": {},
   "outputs": [
    {
     "data": {
      "image/png": "[encoded data removed]",
      "text/plain": [
       "<matplotlib.figure.Figure at 0x7f64acbfa320>"
      ]
     },
     "metadata": {},
     "output_type": "display_data"
    }
   ],
   "source": [
    "import matplotlib.pyplot as plt\n",
    "\n",
    "a = 100/np.exp(np.linspace(10,0,10)) # np.arange(1000)\n",
    "\n",
    "plt.plot(a)\n",
    "# plt.yscale('log')\n",
    "plt.show()"
   ]
  },
  {
   "cell_type": "code",
   "execution_count": 6,
   "metadata": {},
   "outputs": [
    {
     "data": {
      "text/plain": [
       "array([  10.,  109.,  208.,  307.,  406.,  504.,  603.,  702.,  801.,  900.])"
      ]
     },
     "execution_count": 6,
     "metadata": {},
     "output_type": "execute_result"
    }
   ],
   "source": [
    "np.round(np.linspace(10,900,10),0)\n",
    "\n"
   ]
  },
  {
   "cell_type": "code",
   "execution_count": 22,
   "metadata": {},
   "outputs": [
    {
     "data": {
      "text/plain": [
       "(3, 4)"
      ]
     },
     "execution_count": 22,
     "metadata": {},
     "output_type": "execute_result"
    }
   ],
   "source": [
    "import itertools\n",
    "# for i in itertools.product([1,2,3], repeat=4):\n",
    "#     print(i)\n",
    "    \n",
    "{index:val for index, val in enumerate(itertools.product([1,2,3], repeat=4))}\n",
    "\n",
    "np.random.choice(np.arange(3),size=4)\n",
    "\n",
    "np.arange(12).reshape(3,4).shape\n"
   ]
  },
  {
   "cell_type": "code",
   "execution_count": 17,
   "metadata": {},
   "outputs": [
    {
     "data": {
      "text/plain": [
       "True"
      ]
     },
     "execution_count": 17,
     "metadata": {},
     "output_type": "execute_result"
    }
   ],
   "source": [
    "a=np.array([1,2,3])\n",
    "b=np.array([1,2,3])\n",
    "a= [1,2,3]\n",
    "b=[2,2,3]\n",
    "a==b\n",
    "# type(a==b)\n",
    "# np.max(np.arange(12).reshape(3,4),axis=1)\n",
    "# np.arange(12).reshape(3,4)\n",
    "\n",
    "(np.array([1.,2.,3.,4.])==np.round(np.array([1.23,2.34,3.27,4.5]),0)).all()\n"
   ]
  },
  {
   "cell_type": "code",
   "execution_count": 63,
   "metadata": {},
   "outputs": [
    {
     "data": {
      "text/plain": [
       "[0, 0, 0, 2]"
      ]
     },
     "execution_count": 63,
     "metadata": {},
     "output_type": "execute_result"
    }
   ],
   "source": [
    "import itertools\n",
    "list(itertools.permutations([1, 2, 3]))\n",
    "\n",
    "\n",
    "# def perm(n, seq):\n",
    "#     for p in itertools.product(seq, repeat=n):\n",
    "#         print(p)\n",
    "\n",
    "# len(perm(3, \"012\"))\n",
    "a = np.arange(3)\n",
    "\n",
    "# print(len(list(itertools.product(a, repeat=4))))\n",
    "# print(list(itertools.product(a, repeat=4)))\n",
    "\n",
    "dict_index_to_levels = {index: val for index, val in enumerate(itertools.product(a, repeat=4))}\n",
    "dict_levels_to_index = {val:index for index,val in w_index_to_levels.items()}\n",
    "list(dict_index_to_levels[2])\n",
    "# {val:index for index, val in enumerate(itertools.product(a, repeat=4))}\n"
   ]
  },
  {
   "cell_type": "code",
   "execution_count": 112,
   "metadata": {},
   "outputs": [
    {
     "data": {
      "text/plain": [
       "[4, 4, 4, 4]"
      ]
     },
     "execution_count": 112,
     "metadata": {},
     "output_type": "execute_result"
    }
   ],
   "source": [
    "a= [-1,1,2,3,4,5,6,7,8,9,10,11,12]\n",
    "np.sum(a)\n",
    "rotor_speeds = np.exp(np.linspace(0,np.log(900),20))\n",
    "# rotor_speeds[0] = 0\n",
    "rotor_speeds = np.round(np.linspace(100,900,9),0)\n",
    "rotor_speeds\n",
    "# np.exp(a)\n",
    "# np.square(a)\n",
    "\n",
    "# np.random.choice(np.arange(21),size=4)\n",
    "# a= np.array([-1,32,21.1])\n",
    "# b = np.array([-1,32.,21])\n",
    "# (a==b).all()\n",
    "# np.round(np.linspace(400,500,3),0)  \n",
    "[np.random.choice(9)+1]*4"
   ]
  },
  {
   "cell_type": "code",
   "execution_count": 14,
   "metadata": {},
   "outputs": [
    {
     "data": {
      "text/plain": [
       "array([[1052.27393126,  868.58304085,  905.42730422, 1079.41813688],\n",
       "       [1094.9188841 , 1116.01229469,  960.72167414,  909.26390279],\n",
       "       [ 816.53371163, 1019.35824034, 1033.03494263,  775.60920809]])"
      ]
     },
     "execution_count": 14,
     "metadata": {},
     "output_type": "execute_result"
    }
   ],
   "source": [
    "np.random.normal(size=(3,4),scale=100,loc=1000)"
   ]
  },
  {
   "cell_type": "code",
   "execution_count": 9,
   "metadata": {},
   "outputs": [
    {
     "data": {
      "text/plain": [
       "array([1, 2, 3, 1, 2, 3, 0, 1, 2, 3, 1, 2, 3, 0, 1, 2, 3, 1, 2, 3, 0])"
      ]
     },
     "execution_count": 9,
     "metadata": {},
     "output_type": "execute_result"
    }
   ],
   "source": [
    "a=np.array([1,2,3])\n",
    "b=np.array([1,2,3])\n",
    "    \n",
    "np.concatenate([np.concatenate([a,b,[False]])] * 3) \n",
    "# np.append(a,0)"
   ]
  },
  {
   "cell_type": "code",
   "execution_count": 8,
   "metadata": {},
   "outputs": [
    {
     "data": {
      "text/plain": [
       "[array([1, 2, 3]), array([1, 2, 3])]"
      ]
     },
     "execution_count": 8,
     "metadata": {},
     "output_type": "execute_result"
    }
   ],
   "source": [
    "([1,2,3] +[3])*2\n",
    "a = np.array([1,2,3])\n",
    "[a]*2"
   ]
  },
  {
   "cell_type": "code",
   "execution_count": 98,
   "metadata": {},
   "outputs": [
    {
     "name": "stdout",
     "output_type": "stream",
     "text": [
      "5.0\n"
     ]
    }
   ],
   "source": [
    "\n",
    "z= 0\n",
    "\n",
    "max_height_reward = 5       #50 is max reward after takeoff upon reaching max desired height\n",
    "max_height = 50\n",
    "max_height_acheived = True\n",
    "\n",
    "factor = np.pi/max_height\n",
    "res = z*factor\n",
    "\n",
    "if z <= max_height and not max_height_acheived:\n",
    "    reward = max_height_reward*round(np.sin(res/2.0),4)\n",
    "    print(reward)         #divide by 10 to reduce rewards scale\n",
    "else:\n",
    "    max_height_acheived = True\n",
    "    reward = max_height_reward*round(np.cos(res/2.0),4)\n",
    "    print(reward)\n",
    "\n"
   ]
  },
  {
   "cell_type": "code",
   "execution_count": 10,
   "metadata": {},
   "outputs": [
    {
     "data": {
      "text/plain": [
       "array([1, 2, 3, 3, 4, 5])"
      ]
     },
     "execution_count": 10,
     "metadata": {},
     "output_type": "execute_result"
    }
   ],
   "source": [
    "np.concatenate([[1,2,3],[3,4,5]],axis = 0)\n",
    "\n",
    "# np.concatenate([np.arange(12).reshape(3,4),np.arange(12).reshape(3,4)],axis = 1)"
   ]
  },
  {
   "cell_type": "code",
   "execution_count": 14,
   "metadata": {},
   "outputs": [
    {
     "name": "stdout",
     "output_type": "stream",
     "text": [
      "HelloHello\n"
     ]
    }
   ],
   "source": [
    "def call(str):\n",
    "    for _ in range(3):\n",
    "        done = str*_\n",
    "    print(done)\n",
    "call('Hello')\n",
    "\n"
   ]
  },
  {
   "cell_type": "code",
   "execution_count": null,
   "metadata": {
    "collapsed": true
   },
   "outputs": [],
   "source": [
    "train_episodes = 1000          # max number of episodes to learn from\n",
    "max_steps = 200                # max steps in an episode\n",
    "gamma = 0.99                   # future reward discount\n",
    "\n",
    "# Exploration parameters\n",
    "explore_start = 1.0            # exploration probability at start\n",
    "explore_stop = 0.01            # minimum exploration probability \n",
    "decay_rate = 0.0001            # exponential decay rate for exploration prob\n",
    "\n",
    "# Network parameters\n",
    "hidden_size = 64               # number of units in each Q-network hidden layer\n",
    "learning_rate = 0.0001         # Q-network learning rate\n",
    "\n",
    "# Memory parameters\n",
    "memory_size = 10000            # memory capacity\n",
    "batch_size = 20                # experience mini-batch size\n",
    "pretrain_length = batch_size   # number experiences to pretrain the memory"
   ]
  },
  {
   "cell_type": "code",
   "execution_count": null,
   "metadata": {
    "collapsed": true
   },
   "outputs": [],
   "source": [
    "# Initialize the simulation\n",
    "task.reset()\n",
    "# Take one random step to get the pole and cart moving\n",
    "state, reward, done, _ = env.step(env.action_space.sample())\n",
    "\n",
    "memory = Memory(max_size=memory_size)\n",
    "\n",
    "# Make a bunch of random actions and store the experiences\n",
    "for ii in range(pretrain_length):\n",
    "\n",
    "    # Make a random action\n",
    "    action = env.action_space.sample()\n",
    "    next_state, reward, done, _ = env.step(action)\n",
    "\n",
    "    if done:\n",
    "        # The simulation fails so no next state\n",
    "        next_state = np.zeros(state.shape)\n",
    "        # Add experience to memory\n",
    "        memory.add((state, action, reward, next_state))\n",
    "        \n",
    "        # Start new episode\n",
    "        env.reset()\n",
    "        # Take one random step to get the pole and cart moving\n",
    "        state, reward, done, _ = env.step(env.action_space.sample())\n",
    "    else:\n",
    "        # Add experience to memory\n",
    "        memory.add((state, action, reward, next_state))\n",
    "        state = next_state"
   ]
  },
  {
   "cell_type": "code",
   "execution_count": null,
   "metadata": {
    "collapsed": true
   },
   "outputs": [],
   "source": [
    "# Now train with experiences\n",
    "saver = tf.train.Saver()\n",
    "rewards_list = []\n",
    "with tf.Session() as sess:\n",
    "    # Initialize variables\n",
    "    sess.run(tf.global_variables_initializer())\n",
    "    \n",
    "    step = 0\n",
    "    for ep in range(1, train_episodes):\n",
    "        total_reward = 0\n",
    "        t = 0\n",
    "        while t < max_steps:\n",
    "            step += 1\n",
    "            # Uncomment this next line to watch the training\n",
    "            # env.render() \n",
    "            \n",
    "           \n",
    "            \n",
    "            # Take action, get new state and reward\n",
    "            next_state, reward, done, _ = env.step(action)\n",
    "    \n",
    "            total_reward += reward\n",
    "            \n",
    "            if done:\n",
    "                # the episode ends so no next state\n",
    "                next_state = np.zeros(state.shape)\n",
    "                t = max_steps\n",
    "                \n",
    "                print('Episode: {}'.format(ep),\n",
    "                      'Total reward: {}'.format(total_reward),\n",
    "                      'Training loss: {:.4f}'.format(loss),\n",
    "                      'Explore P: {:.4f}'.format(explore_p))\n",
    "                rewards_list.append((ep, total_reward))\n",
    "                \n",
    "                # Add experience to memory\n",
    "                memory.add((state, action, reward, next_state))\n",
    "                \n",
    "                # Start new episode\n",
    "                env.reset()\n",
    "                # Take one random step to get the pole and cart moving\n",
    "                state, reward, done, _ = env.step(env.action_space.sample())\n",
    "\n",
    "            else:\n",
    "                # Add experience to memory\n",
    "                memory.add((state, action, reward, next_state))\n",
    "                state = next_state\n",
    "                t += 1\n",
    "            \n",
    "            # Sample mini-batch from memory\n",
    "            batch = memory.sample(batch_size)\n",
    "            states = np.array([each[0] for each in batch])\n",
    "            actions = np.array([each[1] for each in batch])\n",
    "            rewards = np.array([each[2] for each in batch])\n",
    "            next_states = np.array([each[3] for each in batch])\n",
    "            \n",
    "            # Train network\n",
    "            target_Qs = sess.run(mainQN.output, feed_dict={mainQN.inputs_: next_states})\n",
    "            \n",
    "            # Set target_Qs to 0 for states where episode ends\n",
    "            episode_ends = (next_states == np.zeros(states[0].shape)).all(axis=1)\n",
    "            target_Qs[episode_ends] = (0, 0)\n",
    "            \n",
    "            targets = rewards + gamma * np.max(target_Qs, axis=1)\n",
    "\n",
    "            loss, _ = sess.run([mainQN.loss, mainQN.opt],\n",
    "                                feed_dict={mainQN.inputs_: states,\n",
    "                                           mainQN.targetQs_: targets,\n",
    "                                           mainQN.actions_: actions})\n",
    "        \n",
    "    saver.save(sess, \"checkpoints/cartpole.ckpt\")"
   ]
  },
  {
   "cell_type": "code",
   "execution_count": null,
   "metadata": {
    "collapsed": true
   },
   "outputs": [],
   "source": [
    "  def calculate_reward(self, pose):\n",
    "\n",
    "        z = pose[2]\n",
    "\n",
    "        if z <= self.max_height and not self.max_height_acheived:\n",
    "            if self.sim.v[2] < 0:\n",
    "                reward = -5*(abs(self.sim.pose[2] - self.max_height))\n",
    "            else:\n",
    "                reward = -.1*(abs(self.sim.pose[2] - self.max_height))   \n",
    "            \n",
    "        else:\n",
    "            if self.sim.v[2] > 0:\n",
    "                reward = -10000 # -5*(abs(self.sim.pose[:3] - self.target_pos)).sum()\n",
    "            else:\n",
    "                reward = -.1*(abs(self.sim.pose[:3] - self.target_pos)).sum()\n",
    "            \n",
    "            if not self.max_height_acheived:\n",
    "                reward = reward + 10000\n",
    "            \n",
    "            self.max_height_acheived = True\n",
    "            #reward = reward + (1.-.5*(abs(self.sim.v - self.target_velocity)).sum())\n",
    "        \n",
    "            #if (self.sim.pose==self.target_pos):# and (self.sim.v==self.target_velocity):\n",
    "            if (np.round(np.array(self.sim.pose),0)==np.array(self.target_pos)):\n",
    "                reward = reward + 10000\n",
    "                self.Has_landed = True\n",
    "                print('Egle Has landed...')\n",
    "    \n",
    "        return reward"
   ]
  },
  {
   "cell_type": "code",
   "execution_count": null,
   "metadata": {
    "collapsed": true
   },
   "outputs": [],
   "source": [
    "import numpy as np\n",
    "from physics_sim import PhysicsSim\n",
    "import itertools\n",
    "\n",
    "class Task():\n",
    "    \"\"\"Task (environment) that defines the goal and provides feedback to the agent.\"\"\"\n",
    "    def __init__(self, init_pose=None, init_velocities=None, \n",
    "        init_angle_velocities=None, runtime=5., target_pos=None):\n",
    "        \"\"\"Initialize a Task object.\n",
    "        Params\n",
    "        ======\n",
    "            init_pose: initial position of the quadcopter in (x,y,z) dimensions and the Euler angles\n",
    "            init_velocities: initial velocity of the quadcopter in (x,y,z) dimensions\n",
    "            init_angle_velocities: initial radians/second for each of the three Euler angles\n",
    "            runtime: time limit for each episode\n",
    "            target_pos: target/goal (x,y,z) position for the agent\n",
    "        \"\"\"\n",
    "        # Simulation\n",
    "        self.sim = PhysicsSim(init_pose, init_velocities, init_angle_velocities, runtime) \n",
    "        self.action_repeat = 3\n",
    "\n",
    "        self.state_size = self.action_repeat * 9\n",
    "        self.action_low = 100\n",
    "        self.action_high = 900\n",
    "        self.action_size = 4\n",
    "        self.action_split = 9 # 3 SPEED LEVELS 400,450,500\n",
    "\n",
    "        # Goal\n",
    "        self.target_pos = target_pos if target_pos is not None else np.array([0., 0., 10.]) \n",
    "        \n",
    "        self.max_height_reward = 5       #5 is max reward after takeoff upon reaching max desired height\n",
    "        self.max_height = 20\n",
    "        self.max_height_acheived = False\n",
    "        self.max_height_target = np.array([0., 0., 30.])\n",
    "        self.target_velocity =  np.array([0., 0., 0.])\n",
    "        self.Has_landed = False\n",
    "        \n",
    "        a = np.arange(self.action_split)\n",
    "        self.dict_index_to_levels = {index:val for index, val in enumerate(itertools.product(a, repeat=4))}\n",
    "        self.dict_levels_to_index = {val:index for index,val in self.dict_index_to_levels.items()}\n",
    "        \n",
    "        self.rotor_speed_levels =  np.round(np.linspace(self.action_low,self.action_high,self.action_split),0)\n",
    "\n",
    "    def get_reward(self,done):\n",
    "        \"\"\"Uses current pose of sim to return reward.\"\"\"\n",
    "#         reward = 1.-.3*(abs(self.sim.pose[:3] - self.target_pos)).sum()\n",
    "        if done:\n",
    "            if self.sim.time < 10.:\n",
    "                reward = -100000\n",
    "            else:\n",
    "                reward = 0\n",
    "        else:\n",
    "            reward = self.calculate_reward(self.sim.pose)\n",
    "        \n",
    "        return reward\n",
    "\n",
    "    def step(self, rotor_speeds):\n",
    "        \"\"\"Uses action to obtain next state, reward, done.\"\"\"\n",
    "        reward = 0\n",
    "        pose_all = []\n",
    "        \n",
    "        rotor_speeds = self.eval_rotor_speed(rotor_speeds)\n",
    "        \n",
    "        for _ in range(self.action_repeat):\n",
    "            done = self.sim.next_timestep(rotor_speeds) # update the sim pose and velocities\n",
    "            reward += self.get_reward(done) \n",
    "            pose_all.append(np.concatenate([self.sim.pose,self.sim.v,[self.max_height_acheived]]))\n",
    "            \n",
    "        if done or self.Has_landed:\n",
    "            next_state = self.reset()\n",
    "            done = True\n",
    "        else:\n",
    "            next_state = np.concatenate(pose_all)\n",
    "            \n",
    "#         print('next state',next_state)\n",
    "        return next_state, reward, done\n",
    "    \n",
    "    def eval_rotor_speed(self,rotor_speeds):\n",
    "\n",
    "        calc_rotor_speed = [self.rotor_speed_levels[idx] for idx in rotor_speeds]\n",
    "        #print(calc_rotor_speed)\n",
    "        return calc_rotor_speed\n",
    "\n",
    "    def reset(self):\n",
    "        \"\"\"Reset the sim to start a new episode.\"\"\"\n",
    "        self.sim.reset()\n",
    "        state = np.concatenate([np.concatenate([self.sim.pose,self.sim.v,[self.max_height_acheived]])] * self.action_repeat)\n",
    "        self.max_height_acheived = False\n",
    "        self.Has_landed = False\n",
    "        return state\n",
    "    \n",
    "    def calculate_reward(self, pose):\n",
    "\n",
    "        z = pose[2]\n",
    "\n",
    "        if z <= self.max_height and not self.max_height_acheived:\n",
    "            \n",
    "            #if self.sim.v[2] < 0:\n",
    "             #   reward = -5*(abs(self.sim.pose[2] - self.max_height))\n",
    "            #else:\n",
    "            reward = 10/np.exp(abs(self.sim.pose[2] - self.max_height))   \n",
    "            \n",
    "        else:\n",
    "            \n",
    "            #if self.sim.v[2] > 0:\n",
    "             #   reward = -10000 # -5*(abs(self.sim.pose[:3] - self.target_pos)).sum()\n",
    "            #else:\n",
    "            reward = 100/np.exp((abs(self.sim.pose[:3] - self.target_pos)).sum())\n",
    "            \n",
    "            #if not self.max_height_acheived:\n",
    "            #    reward = reward + 10000\n",
    "            \n",
    "            self.max_height_acheived = True\n",
    "            #reward = reward + (1.-.5*(abs(self.sim.v - self.target_velocity)).sum())\n",
    "        \n",
    "            #if (self.sim.pose==self.target_pos):# and (self.sim.v==self.target_velocity):\n",
    "            if (np.round(np.array(self.sim.pose),0)==np.array(self.target_pos)):\n",
    "                reward = reward+ 1000\n",
    "                self.Has_landed = True\n",
    "                print('Egle Has landed...')\n",
    "            else:\n",
    "                reward = 0\n",
    "    \n",
    "        return reward\n",
    "    \n",
    "    \n",
    "  \n",
    "    \n",
    " #         rotor_speeds = np.exp(np.linspace(0,np.log(900),20)) #rotor speed broken down into 20 levels changing exponentialy...\n",
    "    \n",
    "#     def calculate_reward(self, pose):\n",
    "\n",
    "#         z = pose[2]\n",
    "# #         factor = np.pi/max_height\n",
    "# #         res = z*factor\n",
    "\n",
    "#         if z <= max_height and not max_height_acheived:\n",
    "# #             reward = max_height_reward*round(np.sin(res/2.0),4)\n",
    "#             reward = 1.-.5*(abs(self.sim.pose[:3] - self.max_height_target)).sum()    \n",
    "#             print(reward)         \n",
    "#         else:\n",
    "#             max_height_acheived = True\n",
    "# #             reward = max_height_reward*round(np.cos(res/2.0),4)\n",
    "#             reward = 1.-.5*(abs(self.sim.pose[:3] - self.target_pos)).sum()\n",
    "    \n",
    "#             reward = reward + (1.-.5*(abs(self.sim.v - self.target_velocity)).sum())\n",
    "        \n",
    "#             if np.sum(self.sim.pose) == 0 and np.sum(self.sim.v) == 0:\n",
    "#                 reward = reward + 100\n",
    "#                 self.Has_landed = True\n",
    "    \n",
    "# #             if z < 5 and np.sum(self.sim.v) > 10: #penalize the action if at lower height velocities are high.\n",
    "# #                 reward = reward - 10\n",
    "                \n",
    "#             print(reward)\n",
    "            \n",
    "#         return reward"
   ]
  },
  {
   "cell_type": "code",
   "execution_count": null,
   "metadata": {
    "collapsed": true
   },
   "outputs": [],
   "source": [
    "\n",
    "# import sys\n",
    "# import pandas as pd\n",
    "# from agents.policy_search import PolicySearch_Agent\n",
    "# from task import Task\n",
    "\n",
    "# num_episodes = 1000\n",
    "# target_pos = np.array([0., 0., 10.])\n",
    "# task = Task(target_pos=target_pos)\n",
    "# agent = PolicySearch_Agent(task) \n",
    "\n",
    "# for i_episode in range(1, num_episodes+1):\n",
    "#     state = agent.reset_episode() # start a new episode\n",
    "#     while True:\n",
    "#         action = agent.act(state) \n",
    "#         next_state, reward, done = task.step(action)\n",
    "#         agent.step(reward, done)\n",
    "#         state = next_state\n",
    "#         if done:\n",
    "#             print(\"\\rEpisode = {:4d}, score = {:7.3f} (best = {:7.3f}), noise_scale = {}\".format(\n",
    "#                 i_episode, agent.score, agent.best_score, agent.noise_scale))  # [debug]\n",
    "#             break\n",
    "#     sys.stdout.flush()\n"
   ]
  }
 ],
 "metadata": {
  "kernelspec": {
   "display_name": "Python 3",
   "language": "python",
   "name": "python3"
  },
  "language_info": {
   "codemirror_mode": {
    "name": "ipython",
    "version": 3
   },
   "file_extension": ".py",
   "mimetype": "text/x-python",
   "name": "python",
   "nbconvert_exporter": "python",
   "pygments_lexer": "ipython3",
   "version": "3.5.2"
  }
 },
 "nbformat": 4,
 "nbformat_minor": 2
}
