{
 "cells": [
  {
   "cell_type": "markdown",
   "metadata": {},
   "source": [
    "# Project: Train a Quadcopter How to Fly\n",
    "\n",
    "Design an agent to fly a quadcopter, and then train it using a reinforcement learning algorithm of your choice! \n",
    "\n",
    "Try to apply the techniques you have learnt, but also feel free to come up with innovative ideas and test them."
   ]
  },
  {
   "cell_type": "markdown",
   "metadata": {},
   "source": [
    "## Instructions\n",
    "\n",
    "Take a look at the files in the directory to better understand the structure of the project. \n",
    "\n",
    "- `task.py`: Define your task (environment) in this file.\n",
    "- `agents/`: Folder containing reinforcement learning agents.\n",
    "    - `policy_search.py`: A sample agent has been provided here.\n",
    "    - `agent.py`: Develop your agent here.\n",
    "- `physics_sim.py`: This file contains the simulator for the quadcopter.  **DO NOT MODIFY THIS FILE**.\n",
    "\n",
    "For this project, you will define your own task in `task.py`.  Although we have provided a example task to get you started, you are encouraged to change it.  Later in this notebook, you will learn more about how to amend this file.\n",
    "\n",
    "You will also design a reinforcement learning agent in `agent.py` to complete your chosen task.  \n",
    "\n",
    "You are welcome to create any additional files to help you to organize your code.  For instance, you may find it useful to define a `model.py` file defining any needed neural network architectures.\n",
    "\n",
    "## Controlling the Quadcopter\n",
    "\n",
    "We provide a sample agent in the code cell below to show you how to use the sim to control the quadcopter.  This agent is even simpler than the sample agent that you'll examine (in `agents/policy_search.py`) later in this notebook!\n",
    "\n",
    "The agent controls the quadcopter by setting the revolutions per second on each of its four rotors.  The provided agent in the `Basic_Agent` class below always selects a random action for each of the four rotors.  These four speeds are returned by the `act` method as a list of four floating-point numbers.  \n",
    "\n",
    "For this project, the agent that you will implement in `agents/agent.py` will have a far more intelligent method for selecting actions!"
   ]
  },
  {
   "cell_type": "code",
   "execution_count": 1,
   "metadata": {},
   "outputs": [
    {
     "data": {
      "text/plain": [
       "489.33156361369555"
      ]
     },
     "execution_count": 1,
     "metadata": {},
     "output_type": "execute_result"
    }
   ],
   "source": [
    "import random\n",
    "random.gauss(450.,25.)"
   ]
  },
  {
   "cell_type": "code",
   "execution_count": 2,
   "metadata": {
    "collapsed": true
   },
   "outputs": [],
   "source": [
    "import random\n",
    "\n",
    "class Basic_Agent():\n",
    "    def __init__(self, task):\n",
    "        self.task = task\n",
    "    \n",
    "    def act(self):\n",
    "#         new_thrust = random.gauss(450., 25.)\n",
    "#         return [new_thrust + random.gauss(0., 1.) for x in range(4)]\n",
    "        return np.array([0,0,0,0])\n"
   ]
  },
  {
   "cell_type": "markdown",
   "metadata": {},
   "source": [
    "Run the code cell below to have the agent select actions to control the quadcopter.  \n",
    "\n",
    "Feel free to change the provided values of `runtime`, `init_pose`, `init_velocities`, and `init_angle_velocities` below to change the starting conditions of the quadcopter.\n",
    "\n",
    "The `labels` list below annotates statistics that are saved while running the simulation.  All of this information is saved in a text file `data.txt` and stored in the dictionary `results`.  "
   ]
  },
  {
   "cell_type": "code",
   "execution_count": 1,
   "metadata": {
    "collapsed": true
   },
   "outputs": [],
   "source": [
    "%load_ext autoreload\n",
    "%autoreload 2\n",
    "\n",
    "import csv\n",
    "import numpy as np\n",
    "from task import Task"
   ]
  },
  {
   "cell_type": "code",
   "execution_count": 4,
   "metadata": {
    "collapsed": true
   },
   "outputs": [],
   "source": [
    "\n",
    "\n",
    "# Modify the values below to give the quadcopter a different starting position.\n",
    "runtime = 5.                                     # time limit of the episode\n",
    "init_pose = np.array([0., 0., 10., 0., 0., 0.])  # initial pose\n",
    "init_velocities = np.array([0., 0., 0.])         # initial velocities\n",
    "init_angle_velocities = np.array([0., 0., 0.])   # initial angle velocities\n",
    "file_output = 'data1.txt'                         # file name for saved results\n",
    "\n",
    "# Setup\n",
    "task = Task(init_pose, init_velocities, init_angle_velocities, runtime)\n",
    "agent = Basic_Agent(task)\n",
    "done = False\n",
    "labels = ['time', 'x', 'y', 'z', 'phi', 'theta', 'psi', 'x_velocity',\n",
    "          'y_velocity', 'z_velocity', 'phi_velocity', 'theta_velocity',\n",
    "          'psi_velocity', 'rotor_speed1', 'rotor_speed2', 'rotor_speed3', 'rotor_speed4','reward']\n",
    "results = {x : [] for x in labels}\n",
    "\n",
    "# print(task.reset())\n",
    "\n",
    "# Run the simulation, and save the results.\n",
    "with open(file_output, 'w') as csvfile:\n",
    "    writer = csv.writer(csvfile)\n",
    "    writer.writerow(labels)\n",
    "    while True:\n",
    "        rotor_speeds = [0,0,0,0]# agent.act()\n",
    "        _, reward, done = task.step(rotor_speeds)\n",
    "        to_write = [task.sim.time] + list(task.sim.pose) + list(task.sim.v) + list(task.sim.angular_v) + list(rotor_speeds)+[reward]\n",
    "        for ii in range(len(labels)):\n",
    "            results[labels[ii]].append(to_write[ii])\n",
    "        writer.writerow(to_write)\n",
    "        if done:\n",
    "            break\n",
    "#         break"
   ]
  },
  {
   "cell_type": "markdown",
   "metadata": {},
   "source": [
    "Run the code cell below to visualize how the position of the quadcopter evolved during the simulation."
   ]
  },
  {
   "cell_type": "markdown",
   "metadata": {},
   "source": [
    "The next code cell visualizes the velocity of the quadcopter."
   ]
  },
  {
   "cell_type": "markdown",
   "metadata": {},
   "source": [
    "Next, you can plot the Euler angles (the rotation of the quadcopter over the $x$-, $y$-, and $z$-axes),"
   ]
  },
  {
   "cell_type": "markdown",
   "metadata": {},
   "source": [
    "before plotting the velocities (in radians per second) corresponding to each of the Euler angles."
   ]
  },
  {
   "cell_type": "markdown",
   "metadata": {},
   "source": [
    "Finally, you can use the code cell below to print the agent's choice of actions.  "
   ]
  },
  {
   "cell_type": "markdown",
   "metadata": {},
   "source": [
    "When specifying a task, you will derive the environment state from the simulator.  Run the code cell below to print the values of the following variables at the end of the simulation:\n",
    "- `task.sim.pose` (the position of the quadcopter in ($x,y,z$) dimensions and the Euler angles),\n",
    "- `task.sim.v` (the velocity of the quadcopter in ($x,y,z$) dimensions), and\n",
    "- `task.sim.angular_v` (radians/second for each of the three Euler angles)."
   ]
  },
  {
   "cell_type": "code",
   "execution_count": 5,
   "metadata": {},
   "outputs": [
    {
     "name": "stdout",
     "output_type": "stream",
     "text": [
      "[  0.   0.  10.   0.   0.   0.]\n",
      "[ 0.  0.  0.]\n",
      "[ 0.  0.  0.]\n"
     ]
    }
   ],
   "source": [
    "# the pose, velocity, and angular velocity of the quadcopter at the end of the episode\n",
    "print(task.sim.pose)\n",
    "print(task.sim.v)\n",
    "print(task.sim.angular_v)"
   ]
  },
  {
   "cell_type": "markdown",
   "metadata": {},
   "source": [
    "In the sample task in `task.py`, we use the 6-dimensional pose of the quadcopter to construct the state of the environment at each timestep.  However, when amending the task for your purposes, you are welcome to expand the size of the state vector by including the velocity information.  You can use any combination of the pose, velocity, and angular velocity - feel free to tinker here, and construct the state to suit your task.\n",
    "\n",
    "## The Task\n",
    "\n",
    "A sample task has been provided for you in `task.py`.  Open this file in a new window now. \n",
    "\n",
    "The `__init__()` method is used to initialize several variables that are needed to specify the task.  \n",
    "- The simulator is initialized as an instance of the `PhysicsSim` class (from `physics_sim.py`).  \n",
    "- Inspired by the methodology in the original DDPG paper, we make use of action repeats.  For each timestep of the agent, we step the simulation `action_repeats` timesteps.  If you are not familiar with action repeats, please read the **Results** section in [the DDPG paper](https://arxiv.org/abs/1509.02971).\n",
    "- We set the number of elements in the state vector.  For the sample task, we only work with the 6-dimensional pose information.  To set the size of the state (`state_size`), we must take action repeats into account.  \n",
    "- The environment will always have a 4-dimensional action space, with one entry for each rotor (`action_size=4`). You can set the minimum (`action_low`) and maximum (`action_high`) values of each entry here.\n",
    "- The sample task in this provided file is for the agent to reach a target position.  We specify that target position as a variable.\n",
    "\n",
    "The `reset()` method resets the simulator.  The agent should call this method every time the episode ends.  You can see an example of this in the code cell below.\n",
    "\n",
    "The `step()` method is perhaps the most important.  It accepts the agent's choice of action `rotor_speeds`, which is used to prepare the next state to pass on to the agent.  Then, the reward is computed from `get_reward()`.  The episode is considered done if the time limit has been exceeded, or the quadcopter has travelled outside of the bounds of the simulation.\n",
    "\n",
    "In the next section, you will learn how to test the performance of an agent on this task."
   ]
  },
  {
   "cell_type": "markdown",
   "metadata": {},
   "source": [
    "## The Agent\n",
    "\n",
    "The sample agent given in `agents/policy_search.py` uses a very simplistic linear policy to directly compute the action vector as a dot product of the state vector and a matrix of weights. Then, it randomly perturbs the parameters by adding some Gaussian noise, to produce a different policy. Based on the average reward obtained in each episode (`score`), it keeps track of the best set of parameters found so far, how the score is changing, and accordingly tweaks a scaling factor to widen or tighten the noise.\n",
    "\n",
    "Run the code cell below to see how the agent performs on the sample task."
   ]
  },
  {
   "cell_type": "markdown",
   "metadata": {
    "collapsed": true
   },
   "source": [
    "## Define the Task, Design the Agent, and Train Your Agent!\n",
    "\n",
    "Amend `task.py` to specify a task of your choosing.  If you're unsure what kind of task to specify, you may like to teach your quadcopter to takeoff, hover in place, land softly, or reach a target pose.  \n",
    "\n",
    "After specifying your task, use the sample agent in `agents/policy_search.py` as a template to define your own agent in `agents/agent.py`.  You can borrow whatever you need from the sample agent, including ideas on how you might modularize your code (using helper methods like `act()`, `learn()`, `reset_episode()`, etc.).\n",
    "\n",
    "Note that it is **highly unlikely** that the first agent and task that you specify will learn well.  You will likely have to tweak various hyperparameters and the reward function for your task until you arrive at reasonably good behavior.\n",
    "\n",
    "As you develop your agent, it's important to keep an eye on how it's performing. Use the code above as inspiration to build in a mechanism to log/save the total rewards obtained in each episode to file.  If the episode rewards are gradually increasing, this is an indication that your agent is learning."
   ]
  },
  {
   "cell_type": "code",
   "execution_count": 6,
   "metadata": {},
   "outputs": [
    {
     "name": "stdout",
     "output_type": "stream",
     "text": [
      "/notebooks/Reinforcement learning final Project/RL-Quadcopter-2\r\n"
     ]
    }
   ],
   "source": [
    "!pwd"
   ]
  },
  {
   "cell_type": "code",
   "execution_count": 1,
   "metadata": {
    "collapsed": true
   },
   "outputs": [],
   "source": [
    "import os\n",
    "\n",
    "from pathlib import Path"
   ]
  },
  {
   "cell_type": "code",
   "execution_count": 3,
   "metadata": {
    "collapsed": true
   },
   "outputs": [],
   "source": [
    "labels = ['epsiode_no','time', 'x', 'y', 'z', 'phi', 'theta', 'psi', 'x_velocity',\n",
    "          'y_velocity', 'z_velocity', 'phi_velocity', 'theta_velocity',\n",
    "          'psi_velocity', 'rotor_speed1', 'rotor_speed2', 'rotor_speed3', 'rotor_speed4','reward']\n",
    "results = {x : [] for x in labels}\n",
    "file_output = 'data.txt' "
   ]
  },
  {
   "cell_type": "code",
   "execution_count": 4,
   "metadata": {
    "collapsed": true
   },
   "outputs": [],
   "source": [
    "def write_to_file(i_episode,task,action,reward):\n",
    "    to_write = [i_episode]+[task.sim.time] + list(task.sim.pose) + list(task.sim.v) + list(task.sim.angular_v) + list(action)+[reward]\n",
    "    for ii in range(len(labels)):\n",
    "        results[labels[ii]].append(to_write[ii])\n",
    "    writer.writerow(to_write)"
   ]
  },
  {
   "cell_type": "markdown",
   "metadata": {},
   "source": [
    "Training the agent below..."
   ]
  },
  {
   "cell_type": "code",
   "execution_count": 5,
   "metadata": {
    "collapsed": true
   },
   "outputs": [],
   "source": [
    "%load_ext autoreload\n",
    "%autoreload 2\n",
    "\n",
    "import csv\n",
    "import sys\n",
    "import pandas as pd\n",
    "from agents.agent import My_Agent\n",
    "from task import Task\n",
    "import tensorflow as tf\n",
    "import numpy as np\n",
    "\n"
   ]
  },
  {
   "cell_type": "code",
   "execution_count": 6,
   "metadata": {
    "collapsed": true
   },
   "outputs": [],
   "source": [
    "\n",
    "num_episodes = 3200\n",
    "target_pos = np.array([0., 0., 1.])\n",
    "task = Task(target_pos=target_pos,runtime=10.)\n",
    "agent = My_Agent(task) \n",
    "agent.pretrain_memory()\n",
    "rewards_list = []\n",
    "Best_Episode_reward = -1500\n",
    "checkpoint_reward_dict = dict()\n",
    "\n",
    "# tf.reset_default_graph()\n",
    "saver = tf.train.Saver()"
   ]
  },
  {
   "cell_type": "code",
   "execution_count": 7,
   "metadata": {},
   "outputs": [
    {
     "name": "stdout",
     "output_type": "stream",
     "text": [
      "checkpoints_1 759.844827578\n",
      "Episode =    2, episode_reward = 551.257,Best_Episode_reward = 759.845 )checkpoints_3 772.954207304\n",
      "Episode =    3, episode_reward = 772.954,Best_Episode_reward = 772.954 )checkpoints_4 1021.14974439\n",
      "Episode =   18, episode_reward = 919.828,Best_Episode_reward = 1021.150 ))checkpoints_19 1159.66503558\n",
      "Episode =   24, episode_reward = 736.757,Best_Episode_reward = 1159.665 ))checkpoints_25 1463.84951537\n",
      "Episode = 1401, episode_reward = 874.832,Best_Episode_reward = 1463.850 ))checkpoints_1402 2187.53604032\n",
      "Episode = 1701, episode_reward = 1929.341,Best_Episode_reward = 2187.536 )checkpoints_1702 2615.33655513\n",
      "Episode = 1704, episode_reward =   6.299,Best_Episode_reward = 2615.337 ))checkpoints_1705 13724.3157577\n",
      "Episode = 1768, episode_reward =   0.538,Best_Episode_reward = 13724.316 )))checkpoints_1769 15828.5764742\n",
      "Episode = 2899, episode_reward = 9665.270,Best_Episode_reward = 15828.576 ))checkpoints_2900 24065.912991\n",
      "Episode = 3200, episode_reward =  93.230,Best_Episode_reward = 24065.913 )))"
     ]
    }
   ],
   "source": [
    "\n",
    "\n",
    "\n",
    "with tf.Session() as sess:\n",
    "    sess.run(tf.global_variables_initializer())\n",
    "    \n",
    "    with open(file_output, 'w') as csvfile:\n",
    "        writer = csv.writer(csvfile)\n",
    "        writer.writerow(labels)\n",
    "    \n",
    "    \n",
    "        for i_episode in range(1, num_episodes+1):\n",
    "            state = agent.reset_episode() # start a new episode\n",
    "            while True:\n",
    "                action = agent.act(state,sess) \n",
    "                next_state, reward, done = task.step(action)\n",
    "                agent.step(state,action,reward,next_state, done,sess)\n",
    "                state = next_state\n",
    "\n",
    "                if i_episode%10 == 0 or i_episode == num_episodes:\n",
    "                    write_to_file(i_episode,task,action,reward)\n",
    "\n",
    "                if done:\n",
    "                    if Best_Episode_reward < agent.episode_reward:\n",
    "                        Best_Episode_reward = agent.episode_reward\n",
    "                        \n",
    "                        key_name = \"checkpoints_{}\".format(i_episode)\n",
    "                        checkpoint_reward_dict[key_name] = agent.episode_reward\n",
    "                        print(key_name, checkpoint_reward_dict[key_name])\n",
    "                        Path(os.path.join(os.getcwd(),'checkpoints/checkpoints_{}'.format(i_episode))).mkdir(parents=True, exist_ok=True)\n",
    "                        saver.save(sess, \"checkpoints/checkpoints_{}/Quadcopter.ckpt\".format(i_episode))\n",
    "                    \n",
    "\n",
    "                    rewards_list.append((i_episode, agent.episode_reward))\n",
    "                    print(\"\\rEpisode = {:4d}, episode_reward = {:7.3f},Best_Episode_reward = {:7.3f} )\".format(i_episode, agent.episode_reward,Best_Episode_reward), end=\"\")\n",
    "\n",
    "                    \n",
    "                    break\n",
    "                \n",
    "        saver.save(sess, \"checkpoints/Quadcopter.ckpt\".format(i_episode))"
   ]
  },
  {
   "cell_type": "markdown",
   "metadata": {
    "collapsed": true
   },
   "source": [
    "\n",
    "\n",
    "## Plot the Rewards\n",
    "\n",
    "Once you are satisfied with your performance, plot the episode rewards, either from a single run, or averaged over multiple runs. "
   ]
  },
  {
   "cell_type": "markdown",
   "metadata": {},
   "source": [
    "### Plotting Rewards Rolling Average(in Blue) with per episode rewards (in gray) "
   ]
  },
  {
   "cell_type": "code",
   "execution_count": 8,
   "metadata": {
    "collapsed": true
   },
   "outputs": [],
   "source": [
    "%matplotlib inline\n",
    "import matplotlib.pyplot as plt\n",
    "    \n",
    "def running_mean(x, N):\n",
    "    cumsum = np.cumsum(np.insert(x, 0, 0)) \n",
    "    return (cumsum[N:] - cumsum[:-N]) / N "
   ]
  },
  {
   "cell_type": "code",
   "execution_count": 9,
   "metadata": {},
   "outputs": [
    {
     "data": {
      "text/plain": [
       "<matplotlib.text.Text at 0x7f10c05e4e80>"
      ]
     },
     "execution_count": 9,
     "metadata": {},
     "output_type": "execute_result"
    },
    {
     "data": {
      "image/png": "[encoded data removed]",
      "text/plain": [
       "<matplotlib.figure.Figure at 0x7f10c087ca58>"
      ]
     },
     "metadata": {},
     "output_type": "display_data"
    }
   ],
   "source": [
    "epsds, rwrds = np.array(rewards_list).T\n",
    "smoothed_rews = running_mean(rwrds, 100)\n",
    "plt.plot(epsds[-len(smoothed_rews):], smoothed_rews)\n",
    "plt.plot(epsds, rwrds, color='grey', alpha=0.3)\n",
    "plt.xlabel('Episode')\n",
    "plt.ylabel('Per Episode Total Reward')"
   ]
  },
  {
   "cell_type": "markdown",
   "metadata": {},
   "source": [
    "It can be clearly seen below that rewards have started to increase with rolling average of 600"
   ]
  },
  {
   "cell_type": "code",
   "execution_count": 10,
   "metadata": {},
   "outputs": [
    {
     "data": {
      "text/plain": [
       "<matplotlib.text.Text at 0x7f10c057e518>"
      ]
     },
     "execution_count": 10,
     "metadata": {},
     "output_type": "execute_result"
    },
    {
     "data": {
      "image/png": "[encoded data removed]",
      "text/plain": [
       "<matplotlib.figure.Figure at 0x7f10c0576cf8>"
      ]
     },
     "metadata": {},
     "output_type": "display_data"
    }
   ],
   "source": [
    "# Per Episode Total rewards...\n",
    "eps, rews = np.array(rewards_list).T\n",
    "smoothed_rews = running_mean(rews, 600)\n",
    "plt.plot(eps[-len(smoothed_rews):], smoothed_rews)\n",
    "# plt.yscale('log')\n",
    "plt.xlabel('Episode')\n",
    "plt.ylabel('Per Episode Total Reward')\n"
   ]
  },
  {
   "cell_type": "markdown",
   "metadata": {},
   "source": [
    "### Training Loss Plot over all steps"
   ]
  },
  {
   "cell_type": "code",
   "execution_count": 11,
   "metadata": {},
   "outputs": [
    {
     "data": {
      "text/plain": [
       "<matplotlib.text.Text at 0x7f10c0480fd0>"
      ]
     },
     "execution_count": 11,
     "metadata": {},
     "output_type": "execute_result"
    },
    {
     "data": {
      "image/png": "[encoded data removed]",
      "text/plain": [
       "<matplotlib.figure.Figure at 0x7f10c04e7048>"
      ]
     },
     "metadata": {},
     "output_type": "display_data"
    }
   ],
   "source": [
    "\n",
    "lst = [(idx,val) for idx, val in enumerate(agent.loss_list)]\n",
    "\n",
    "eps1, rews1 = np.array(lst).T\n",
    "smoothed_rews1 = running_mean(rews1, 1000)\n",
    "plt.plot(eps1[-len(smoothed_rews1):], smoothed_rews1)\n",
    "# plt.yscale('log')\n",
    "# plt.plot(eps1, rews1, color='grey', alpha=0.3)\n",
    "plt.xlabel('Steps')\n",
    "plt.ylabel('loss')"
   ]
  },
  {
   "cell_type": "markdown",
   "metadata": {
    "collapsed": true
   },
   "source": [
    "### To make a test run from learned Network"
   ]
  },
  {
   "cell_type": "code",
   "execution_count": 7,
   "metadata": {
    "collapsed": true
   },
   "outputs": [],
   "source": [
    "i_episode = 1"
   ]
  },
  {
   "cell_type": "code",
   "execution_count": 8,
   "metadata": {
    "collapsed": true
   },
   "outputs": [],
   "source": [
    "\n",
    "def write_to_test_file(i_episode,task,action,reward):\n",
    "    to_write = [i_episode]+[task.sim.time] + list(task.sim.pose) + list(task.sim.v) + list(task.sim.angular_v) + list(action)+[reward]\n",
    "    for ii in range(len(labels)):\n",
    "        test_results[labels[ii]].append(to_write[ii])\n",
    "    writer.writerow(to_write)"
   ]
  },
  {
   "cell_type": "code",
   "execution_count": 9,
   "metadata": {
    "collapsed": true
   },
   "outputs": [],
   "source": [
    "test_results = {x : [] for x in labels}"
   ]
  },
  {
   "cell_type": "code",
   "execution_count": 10,
   "metadata": {},
   "outputs": [
    {
     "name": "stdout",
     "output_type": "stream",
     "text": [
      "INFO:tensorflow:Restoring parameters from /notebooks/Reinforcement learning final Project/RL-Quadcopter-2/checkpoints/checkpoints_1705/Quadcopter.ckpt\n",
      "Episode =    1, episode_reward = 31381.602 )"
     ]
    }
   ],
   "source": [
    "with tf.Session() as sess:\n",
    "    \n",
    "    saver.restore(sess,tf.train.latest_checkpoint(os.path.join(os.getcwd(),'checkpoints/checkpoints_1705')))\n",
    "    file_output = 'testrun.txt'\n",
    "    rewards_list_test_run = []\n",
    "    task = Task(target_pos=target_pos,runtime=18.)\n",
    "    \n",
    "                  \n",
    "    with open(file_output, 'w') as csvfile:\n",
    "        writer = csv.writer(csvfile)\n",
    "        writer.writerow(labels)\n",
    "        \n",
    "        state = agent.reset_episode() # start a new episode\n",
    "        t_reward = 0\n",
    "        while True:\n",
    "            action = agent.act(state,sess,is_training=False) \n",
    "            next_state, reward, done = task.step(action)\n",
    "            t_reward += reward\n",
    "            state = next_state\n",
    "\n",
    "            write_to_test_file(1,task,action,reward)\n",
    "\n",
    "            if done:\n",
    "\n",
    "                rewards_list_test_run.append((i_episode, t_reward))\n",
    "                print(\"\\rEpisode = {:4d}, episode_reward = {:7.3f} )\".format(i_episode, t_reward), end=\"\")\n",
    "                break"
   ]
  },
  {
   "cell_type": "markdown",
   "metadata": {},
   "source": [
    "***Below are the plots of the last runs(training last run and Test run), not to confuse two lines are coming because one shows training last run and the other shows Test run.***"
   ]
  },
  {
   "cell_type": "markdown",
   "metadata": {},
   "source": [
    "**Note**: In the below plot (x,y,z) have started to stabilize after a mega push upward, may be we can see it coming down to landing \n",
    "position if we run the simulation for little longer. we can expect it to come down seeing the Z velocity in the next plot below."
   ]
  },
  {
   "cell_type": "code",
   "execution_count": 19,
   "metadata": {},
   "outputs": [
    {
     "data": {
      "image/png": "[encoded data removed]",
      "text/plain": [
       "<matplotlib.figure.Figure at 0x7f4aa40127f0>"
      ]
     },
     "metadata": {},
     "output_type": "display_data"
    }
   ],
   "source": [
    "import matplotlib.pyplot as plt\n",
    "%matplotlib inline\n",
    "\n",
    "plt.clf()\n",
    "\n",
    "plt.plot(test_results['time'], test_results['x'], label='x axis')\n",
    "plt.plot(test_results['time'], test_results['y'], label='y axis')\n",
    "plt.plot(test_results['time'][:-1], test_results['z'][:-1], label='z axis')\n",
    "plt.xlabel('Time in Sec')\n",
    "plt.ylabel('Height')\n",
    "plt.legend()\n",
    "_ = plt.ylim()"
   ]
  },
  {
   "cell_type": "markdown",
   "metadata": {},
   "source": [
    "In the below plot, Z velocity has come down to -ve to bring down the quadcopter"
   ]
  },
  {
   "cell_type": "code",
   "execution_count": 20,
   "metadata": {},
   "outputs": [
    {
     "data": {
      "image/png": "[encoded data removed]",
      "text/plain": [
       "<matplotlib.figure.Figure at 0x7f4a8803f7b8>"
      ]
     },
     "metadata": {},
     "output_type": "display_data"
    }
   ],
   "source": [
    "plt.plot(test_results['time'], test_results['x_velocity'], label='x_hat velocity')\n",
    "plt.plot(test_results['time'], test_results['y_velocity'], label='y_hat velocity')\n",
    "plt.plot(test_results['time'][:-1], test_results['z_velocity'][:-1], label='z_hat velocity')\n",
    "plt.xlabel('Time in Sec')\n",
    "plt.ylabel('Velocity')\n",
    "plt.legend()\n",
    "_ = plt.ylim()"
   ]
  },
  {
   "cell_type": "markdown",
   "metadata": {},
   "source": [
    "In the plot below the level of rotor speeds have been brought down after the initial push upwards toward the begining."
   ]
  },
  {
   "cell_type": "code",
   "execution_count": 21,
   "metadata": {},
   "outputs": [
    {
     "data": {
      "image/png": "[encoded data removed]",
      "text/plain": [
       "<matplotlib.figure.Figure at 0x7f4a8811dda0>"
      ]
     },
     "metadata": {},
     "output_type": "display_data"
    }
   ],
   "source": [
    "plt.plot(test_results['time'][:-1], test_results['rotor_speed4'][:-1], label='Rotor speed levels')\n",
    "plt.xlabel('Time in Sec')\n",
    "plt.ylabel('Rotor Speed levels')\n",
    "# plt.legend()\n",
    "_ = plt.ylim()"
   ]
  },
  {
   "cell_type": "markdown",
   "metadata": {},
   "source": [
    "**Note** : since the push was only in the +ve Z direction which lead to no change in phi,psi, theta and their corresponding\n",
    "    velocities"
   ]
  },
  {
   "cell_type": "markdown",
   "metadata": {
    "collapsed": true
   },
   "source": [
    "## Reflections\n",
    "\n",
    "**Question 1**: Describe the task that you specified in `task.py`.  How did you design the reward function?\n",
    "\n",
    "**Answer**:\n",
    "\n",
    "In task.py the reward function is split into two parts; first its target is to reach a desired height, then second target is to come down close to landing position [0,0,1].\n",
    "\n",
    "The rewards increases exponentially from starting potions [0,0,10] to a desired height z=20, and once the desired height is reached, then its rewards increases exponentially as it approaches closer to landing position.\n",
    "\n",
    "If it goes beyond the upper/lower bounds of the environments it is penalized with -100 reward.\n",
    "\n",
    "\n",
    "The action space is also descritized into 15 different levels 10 to 900 spaced equally, having same speed for all the 4 rotors at each level for e.g (100,100,100,100), so that it becomes easy for the quadcopter to go up or come down."
   ]
  },
  {
   "cell_type": "markdown",
   "metadata": {},
   "source": [
    "**Question 2**: Discuss your agent briefly, using the following questions as a guide:\n",
    "\n",
    "- What learning algorithm(s) did you try? What worked best for you?\n",
    "- What was your final choice of hyperparameters (such as $\\alpha$, $\\gamma$, $\\epsilon$, etc.)?\n",
    "- What neural network architecture did you use (if any)? Specify layers, sizes, activation functions, etc.\n",
    "\n",
    "**Answer**:\n",
    "\n",
    "\n",
    "I tried Deep Q learning algorithm, with this we can see it is starting to act with desired behaviour for our task.\n",
    "\n",
    "The final choice of hyperparamerters are listed below:\n",
    "\n",
    "        self.explore_stop = 0.01\n",
    "        self.explore_start = 1.0\n",
    "        self.decay_rate = 0.00001  # this decay rate causing exploration to happen for all 3200 episodes\n",
    "        self.gamma = 0.99\n",
    "        \n",
    "         # Network parameters\n",
    "        hidden_size = 64               # number of units in each Q-network hidden layer\n",
    "        learning_rate = 0.00001         # Q-network learning rate\n",
    "        \n",
    "        memory_size = 10000            # memory capacity\n",
    "        self.batch_size = 60           # experience mini-batch size\n",
    "        \n",
    "The architecture of Neural Network is as listed below:\n",
    "\n",
    "Input size 30, output size 15 nodes with linear output.\n",
    "Three hidden layers each has 64 nodes with Elu activation."
   ]
  },
  {
   "cell_type": "markdown",
   "metadata": {},
   "source": [
    "**Question 3**: Using the episode rewards plot, discuss how the agent learned over time.\n",
    "\n",
    "- Was it an easy task to learn or hard?\n",
    "- Was there a gradual learning curve, or an aha moment?\n",
    "- How good was the final performance of the agent? (e.g. mean rewards over the last 10 episodes)\n",
    "\n",
    "**Answer**:\n",
    "\n",
    "The rewards plot the rolling average over 100 episodes to see the improvement in the agent learning the task.\n",
    "\n",
    "It is not an easy task to learn as the agent is struggling to learn to come down quicky to landing point.\n",
    "\n",
    "As the agent is exploring at the begining causing it to hit the simulation boundries and get penalized heavily, which it learns to avoid later. However, the agent still struggles to come down to the landing point after reaching a desired height, although it does make efforts to come down by reducing the +ve Z velocity and increasing the -ve Z velocity at the end of an episode.\n",
    "\n",
    "The rewards collected at the end are coming around 10000 which I think may increase if we train it for further more episodes so it learns to come down quickly and collect more rewards, but I see there are oscillations in the training loss which may be fixed with Fixed Target approach, but could not try it.\n",
    "\n",
    "\n",
    "However, several other settings tried include reducing the size of hidden layers to 32 and number of hidden layers to 2, also tried batch normalization but it was performing poorly with that, not sure why. Also, the reward function has been changed from linear rewards to exponential rewards as it moves toward its target position.\n"
   ]
  },
  {
   "cell_type": "markdown",
   "metadata": {},
   "source": [
    "**Question 4**: Briefly summarize your experience working on this project. You can use the following prompts for ideas.\n",
    "\n",
    "- What was the hardest part of the project? (e.g. getting started, plotting, specifying the task, etc.)\n",
    "- Did you find anything interesting in how the quadcopter or your agent behaved?\n",
    "\n",
    "**Answer**:\n",
    "\n",
    "After spending almost three weeks just on the final Project, I am literally exhausted and desperately need a break.\n",
    "I think the hardest part is designing the Task, as that pretty much dominates other things. The task comprise of two tasks one to reach a desired height and then make it land safely to a desired point. Besides that this Project needs perfect balance of everything to master the desired task.\n",
    "\n",
    "However, I learnt that if there is slightest difference in the 4 rotor speeds, the quadcopter comes crashing down to surface, also increasing the number of rotor speed levels from 9 to 15 does help to acheive the desired task.\n",
    "Secondly, if the Task is not clear or too complex than the agent learns to find ways to increase rewards even we cannot imagine.\n",
    "Thirdly, it is highly recommended in my experience to give enough time to the agent to explore which is the key but equally important is to stop exploring at right point and start exploiting the learned actions-rewards."
   ]
  }
 ],
 "metadata": {
  "anaconda-cloud": {},
  "kernelspec": {
   "display_name": "Python 3",
   "language": "python",
   "name": "python3"
  },
  "language_info": {
   "codemirror_mode": {
    "name": "ipython",
    "version": 3
   },
   "file_extension": ".py",
   "mimetype": "text/x-python",
   "name": "python",
   "nbconvert_exporter": "python",
   "pygments_lexer": "ipython3",
   "version": "3.5.2"
  }
 },
 "nbformat": 4,
 "nbformat_minor": 2
}
